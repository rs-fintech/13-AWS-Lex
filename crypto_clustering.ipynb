{
 "cells": [
  {
   "cell_type": "markdown",
   "metadata": {},
   "source": [
    "# Clustering Crypto"
   ]
  },
  {
   "cell_type": "code",
   "execution_count": 146,
   "metadata": {
    "tags": []
   },
   "outputs": [],
   "source": [
    "# Initial imports\n",
    "import requests\n",
    "import pandas as pd\n",
    "import numpy as np\n",
    "import matplotlib.pyplot as plt\n",
    "import hvplot.pandas\n",
    "import plotly.express as px\n",
    "from sklearn.preprocessing import StandardScaler, MinMaxScaler\n",
    "from sklearn.decomposition import PCA\n",
    "from sklearn.cluster import KMeans"
   ]
  },
  {
   "cell_type": "markdown",
   "metadata": {},
   "source": [
    "### Fetching Cryptocurrency Data"
   ]
  },
  {
   "cell_type": "code",
   "execution_count": 147,
   "metadata": {},
   "outputs": [],
   "source": [
    "# Use the following endpoint to fetch json data\n",
    "url = \"https://min-api.cryptocompare.com/data/all/coinlist\"\n",
    "\n",
    "coinlist_json = requests.get(url).json()"
   ]
  },
  {
   "cell_type": "code",
   "execution_count": 148,
   "metadata": {},
   "outputs": [
    {
     "output_type": "execute_result",
     "data": {
      "text/plain": "    Algorithm BlockNumber BlockReward BlockTime BuiltOn   CoinName  \\\n42     Scrypt      195131           0         0     N/A    42 Coin   \n300       N/A           0           0         0    7605  300 token   \n365       X11         NaN         NaN       NaN     N/A    365Coin   \n\n    ContentCreatedOn DecimalPlaces         FullName FullyPremined  ...  \\\n42        1427211129             0     42 Coin (42)             0  ...   \n300       1517935016            18  300 token (300)             0  ...   \n365       1480032918             0    365Coin (365)             0  ...   \n\n                                                Rating  \\\n42   {'Weiss': {'Rating': '', 'TechnologyAdoptionRa...   \n300  {'Weiss': {'Rating': '', 'TechnologyAdoptionRa...   \n365  {'Weiss': {'Rating': '', 'TechnologyAdoptionRa...   \n\n                           SmartContractAddress SortOrder Sponsored Symbol  \\\n42                                          N/A        34     False     42   \n300  0xaec98a708810414878c3bcdf46aad31ded4a4557      2212     False    300   \n365                                         N/A       916     False    365   \n\n                                              Taxonomy TotalCoinSupply  \\\n42   {'Access': '', 'FCA': '', 'FINMA': '', 'Indust...              42   \n300  {'Access': '', 'FCA': '', 'FINMA': '', 'Indust...             300   \n365  {'Access': '', 'FCA': '', 'FINMA': '', 'Indust...      2300000000   \n\n    TotalCoinsFreeFloat TotalCoinsMined                  Url  \n42                  N/A              42   /coins/42/overview  \n300                 N/A             300  /coins/300/overview  \n365                 N/A             NaN  /coins/365/overview  \n\n[3 rows x 27 columns]",
      "text/html": "<div>\n<style scoped>\n    .dataframe tbody tr th:only-of-type {\n        vertical-align: middle;\n    }\n\n    .dataframe tbody tr th {\n        vertical-align: top;\n    }\n\n    .dataframe thead th {\n        text-align: right;\n    }\n</style>\n<table border=\"1\" class=\"dataframe\">\n  <thead>\n    <tr style=\"text-align: right;\">\n      <th></th>\n      <th>Algorithm</th>\n      <th>BlockNumber</th>\n      <th>BlockReward</th>\n      <th>BlockTime</th>\n      <th>BuiltOn</th>\n      <th>CoinName</th>\n      <th>ContentCreatedOn</th>\n      <th>DecimalPlaces</th>\n      <th>FullName</th>\n      <th>FullyPremined</th>\n      <th>...</th>\n      <th>Rating</th>\n      <th>SmartContractAddress</th>\n      <th>SortOrder</th>\n      <th>Sponsored</th>\n      <th>Symbol</th>\n      <th>Taxonomy</th>\n      <th>TotalCoinSupply</th>\n      <th>TotalCoinsFreeFloat</th>\n      <th>TotalCoinsMined</th>\n      <th>Url</th>\n    </tr>\n  </thead>\n  <tbody>\n    <tr>\n      <th>42</th>\n      <td>Scrypt</td>\n      <td>195131</td>\n      <td>0</td>\n      <td>0</td>\n      <td>N/A</td>\n      <td>42 Coin</td>\n      <td>1427211129</td>\n      <td>0</td>\n      <td>42 Coin (42)</td>\n      <td>0</td>\n      <td>...</td>\n      <td>{'Weiss': {'Rating': '', 'TechnologyAdoptionRa...</td>\n      <td>N/A</td>\n      <td>34</td>\n      <td>False</td>\n      <td>42</td>\n      <td>{'Access': '', 'FCA': '', 'FINMA': '', 'Indust...</td>\n      <td>42</td>\n      <td>N/A</td>\n      <td>42</td>\n      <td>/coins/42/overview</td>\n    </tr>\n    <tr>\n      <th>300</th>\n      <td>N/A</td>\n      <td>0</td>\n      <td>0</td>\n      <td>0</td>\n      <td>7605</td>\n      <td>300 token</td>\n      <td>1517935016</td>\n      <td>18</td>\n      <td>300 token (300)</td>\n      <td>0</td>\n      <td>...</td>\n      <td>{'Weiss': {'Rating': '', 'TechnologyAdoptionRa...</td>\n      <td>0xaec98a708810414878c3bcdf46aad31ded4a4557</td>\n      <td>2212</td>\n      <td>False</td>\n      <td>300</td>\n      <td>{'Access': '', 'FCA': '', 'FINMA': '', 'Indust...</td>\n      <td>300</td>\n      <td>N/A</td>\n      <td>300</td>\n      <td>/coins/300/overview</td>\n    </tr>\n    <tr>\n      <th>365</th>\n      <td>X11</td>\n      <td>NaN</td>\n      <td>NaN</td>\n      <td>NaN</td>\n      <td>N/A</td>\n      <td>365Coin</td>\n      <td>1480032918</td>\n      <td>0</td>\n      <td>365Coin (365)</td>\n      <td>0</td>\n      <td>...</td>\n      <td>{'Weiss': {'Rating': '', 'TechnologyAdoptionRa...</td>\n      <td>N/A</td>\n      <td>916</td>\n      <td>False</td>\n      <td>365</td>\n      <td>{'Access': '', 'FCA': '', 'FINMA': '', 'Indust...</td>\n      <td>2300000000</td>\n      <td>N/A</td>\n      <td>NaN</td>\n      <td>/coins/365/overview</td>\n    </tr>\n  </tbody>\n</table>\n<p>3 rows × 27 columns</p>\n</div>"
     },
     "metadata": {},
     "execution_count": 148
    }
   ],
   "source": [
    "# Create a DataFrame \n",
    "# HINT: You will need to use the 'Data' key from the json response, then transpose the DataFrame.\n",
    "\n",
    "crypto_df = pd.DataFrame(data = coinlist_json['Data']).T\n",
    "crypto_df.head(3)"
   ]
  },
  {
   "cell_type": "code",
   "execution_count": 149,
   "metadata": {},
   "outputs": [],
   "source": [
    "# Alternatively, use the provided csv file:\n",
    "# file_path = Path(\"Resources/crypto_data.csv\")\n",
    "# Create a DataFrame"
   ]
  },
  {
   "cell_type": "markdown",
   "metadata": {},
   "source": [
    "### Data Preprocessing"
   ]
  },
  {
   "cell_type": "code",
   "execution_count": 150,
   "metadata": {},
   "outputs": [
    {
     "output_type": "execute_result",
     "data": {
      "text/plain": "      CoinName Algorithm IsTrading ProofType TotalCoinsMined TotalCoinSupply\n42     42 Coin    Scrypt      True   PoW/PoS              42              42\n300  300 token       N/A      True       N/A             300             300\n365    365Coin       X11      True   PoW/PoS             NaN      2300000000\n404    404Coin    Scrypt      True   PoW/PoS     1.25685e+06       532000000\n433  433 Token       N/A     False       N/A     1.12518e+08      1000000000",
      "text/html": "<div>\n<style scoped>\n    .dataframe tbody tr th:only-of-type {\n        vertical-align: middle;\n    }\n\n    .dataframe tbody tr th {\n        vertical-align: top;\n    }\n\n    .dataframe thead th {\n        text-align: right;\n    }\n</style>\n<table border=\"1\" class=\"dataframe\">\n  <thead>\n    <tr style=\"text-align: right;\">\n      <th></th>\n      <th>CoinName</th>\n      <th>Algorithm</th>\n      <th>IsTrading</th>\n      <th>ProofType</th>\n      <th>TotalCoinsMined</th>\n      <th>TotalCoinSupply</th>\n    </tr>\n  </thead>\n  <tbody>\n    <tr>\n      <th>42</th>\n      <td>42 Coin</td>\n      <td>Scrypt</td>\n      <td>True</td>\n      <td>PoW/PoS</td>\n      <td>42</td>\n      <td>42</td>\n    </tr>\n    <tr>\n      <th>300</th>\n      <td>300 token</td>\n      <td>N/A</td>\n      <td>True</td>\n      <td>N/A</td>\n      <td>300</td>\n      <td>300</td>\n    </tr>\n    <tr>\n      <th>365</th>\n      <td>365Coin</td>\n      <td>X11</td>\n      <td>True</td>\n      <td>PoW/PoS</td>\n      <td>NaN</td>\n      <td>2300000000</td>\n    </tr>\n    <tr>\n      <th>404</th>\n      <td>404Coin</td>\n      <td>Scrypt</td>\n      <td>True</td>\n      <td>PoW/PoS</td>\n      <td>1.25685e+06</td>\n      <td>532000000</td>\n    </tr>\n    <tr>\n      <th>433</th>\n      <td>433 Token</td>\n      <td>N/A</td>\n      <td>False</td>\n      <td>N/A</td>\n      <td>1.12518e+08</td>\n      <td>1000000000</td>\n    </tr>\n  </tbody>\n</table>\n</div>"
     },
     "metadata": {},
     "execution_count": 150
    }
   ],
   "source": [
    "# Keep only necessary columns: 'CoinName','Algorithm','IsTrading','ProofType','TotalCoinsMined','TotalCoinSupply'\n",
    "crypto_df = crypto_df[['CoinName','Algorithm','IsTrading','ProofType','TotalCoinsMined','TotalCoinSupply']]\n",
    "crypto_df.head()"
   ]
  },
  {
   "cell_type": "code",
   "execution_count": 151,
   "metadata": {},
   "outputs": [
    {
     "output_type": "execute_result",
     "data": {
      "text/plain": "      CoinName Algorithm IsTrading ProofType TotalCoinsMined TotalCoinSupply\n42     42 Coin    Scrypt      True   PoW/PoS              42              42\n300  300 token       N/A      True       N/A             300             300\n365    365Coin       X11      True   PoW/PoS             NaN      2300000000\n404    404Coin    Scrypt      True   PoW/PoS     1.25685e+06       532000000\n611  SixEleven   SHA-256      True       PoW             NaN          611000",
      "text/html": "<div>\n<style scoped>\n    .dataframe tbody tr th:only-of-type {\n        vertical-align: middle;\n    }\n\n    .dataframe tbody tr th {\n        vertical-align: top;\n    }\n\n    .dataframe thead th {\n        text-align: right;\n    }\n</style>\n<table border=\"1\" class=\"dataframe\">\n  <thead>\n    <tr style=\"text-align: right;\">\n      <th></th>\n      <th>CoinName</th>\n      <th>Algorithm</th>\n      <th>IsTrading</th>\n      <th>ProofType</th>\n      <th>TotalCoinsMined</th>\n      <th>TotalCoinSupply</th>\n    </tr>\n  </thead>\n  <tbody>\n    <tr>\n      <th>42</th>\n      <td>42 Coin</td>\n      <td>Scrypt</td>\n      <td>True</td>\n      <td>PoW/PoS</td>\n      <td>42</td>\n      <td>42</td>\n    </tr>\n    <tr>\n      <th>300</th>\n      <td>300 token</td>\n      <td>N/A</td>\n      <td>True</td>\n      <td>N/A</td>\n      <td>300</td>\n      <td>300</td>\n    </tr>\n    <tr>\n      <th>365</th>\n      <td>365Coin</td>\n      <td>X11</td>\n      <td>True</td>\n      <td>PoW/PoS</td>\n      <td>NaN</td>\n      <td>2300000000</td>\n    </tr>\n    <tr>\n      <th>404</th>\n      <td>404Coin</td>\n      <td>Scrypt</td>\n      <td>True</td>\n      <td>PoW/PoS</td>\n      <td>1.25685e+06</td>\n      <td>532000000</td>\n    </tr>\n    <tr>\n      <th>611</th>\n      <td>SixEleven</td>\n      <td>SHA-256</td>\n      <td>True</td>\n      <td>PoW</td>\n      <td>NaN</td>\n      <td>611000</td>\n    </tr>\n  </tbody>\n</table>\n</div>"
     },
     "metadata": {},
     "execution_count": 151
    }
   ],
   "source": [
    "# Keep only cryptocurrencies that are trading\n",
    "crypto_df = crypto_df[crypto_df['IsTrading'] == True]\n",
    "crypto_df.head()"
   ]
  },
  {
   "cell_type": "code",
   "execution_count": 152,
   "metadata": {},
   "outputs": [
    {
     "output_type": "execute_result",
     "data": {
      "text/plain": "      CoinName Algorithm IsTrading ProofType TotalCoinsMined TotalCoinSupply\n42     42 Coin    Scrypt      True   PoW/PoS              42              42\n365    365Coin       X11      True   PoW/PoS             NaN      2300000000\n404    404Coin    Scrypt      True   PoW/PoS     1.25685e+06       532000000\n611  SixEleven   SHA-256      True       PoW             NaN          611000\n808        808   SHA-256      True   PoW/PoS               0               0",
      "text/html": "<div>\n<style scoped>\n    .dataframe tbody tr th:only-of-type {\n        vertical-align: middle;\n    }\n\n    .dataframe tbody tr th {\n        vertical-align: top;\n    }\n\n    .dataframe thead th {\n        text-align: right;\n    }\n</style>\n<table border=\"1\" class=\"dataframe\">\n  <thead>\n    <tr style=\"text-align: right;\">\n      <th></th>\n      <th>CoinName</th>\n      <th>Algorithm</th>\n      <th>IsTrading</th>\n      <th>ProofType</th>\n      <th>TotalCoinsMined</th>\n      <th>TotalCoinSupply</th>\n    </tr>\n  </thead>\n  <tbody>\n    <tr>\n      <th>42</th>\n      <td>42 Coin</td>\n      <td>Scrypt</td>\n      <td>True</td>\n      <td>PoW/PoS</td>\n      <td>42</td>\n      <td>42</td>\n    </tr>\n    <tr>\n      <th>365</th>\n      <td>365Coin</td>\n      <td>X11</td>\n      <td>True</td>\n      <td>PoW/PoS</td>\n      <td>NaN</td>\n      <td>2300000000</td>\n    </tr>\n    <tr>\n      <th>404</th>\n      <td>404Coin</td>\n      <td>Scrypt</td>\n      <td>True</td>\n      <td>PoW/PoS</td>\n      <td>1.25685e+06</td>\n      <td>532000000</td>\n    </tr>\n    <tr>\n      <th>611</th>\n      <td>SixEleven</td>\n      <td>SHA-256</td>\n      <td>True</td>\n      <td>PoW</td>\n      <td>NaN</td>\n      <td>611000</td>\n    </tr>\n    <tr>\n      <th>808</th>\n      <td>808</td>\n      <td>SHA-256</td>\n      <td>True</td>\n      <td>PoW/PoS</td>\n      <td>0</td>\n      <td>0</td>\n    </tr>\n  </tbody>\n</table>\n</div>"
     },
     "metadata": {},
     "execution_count": 152
    }
   ],
   "source": [
    "# Keep only cryptocurrencies with a working algorithm\n",
    "crypto_df = crypto_df[crypto_df['Algorithm'] != 'N/A']\n",
    "crypto_df.head()"
   ]
  },
  {
   "cell_type": "code",
   "execution_count": 153,
   "metadata": {},
   "outputs": [
    {
     "output_type": "execute_result",
     "data": {
      "text/plain": "      CoinName Algorithm ProofType TotalCoinsMined TotalCoinSupply\n42     42 Coin    Scrypt   PoW/PoS              42              42\n365    365Coin       X11   PoW/PoS             NaN      2300000000\n404    404Coin    Scrypt   PoW/PoS     1.25685e+06       532000000\n611  SixEleven   SHA-256       PoW             NaN          611000\n808        808   SHA-256   PoW/PoS               0               0",
      "text/html": "<div>\n<style scoped>\n    .dataframe tbody tr th:only-of-type {\n        vertical-align: middle;\n    }\n\n    .dataframe tbody tr th {\n        vertical-align: top;\n    }\n\n    .dataframe thead th {\n        text-align: right;\n    }\n</style>\n<table border=\"1\" class=\"dataframe\">\n  <thead>\n    <tr style=\"text-align: right;\">\n      <th></th>\n      <th>CoinName</th>\n      <th>Algorithm</th>\n      <th>ProofType</th>\n      <th>TotalCoinsMined</th>\n      <th>TotalCoinSupply</th>\n    </tr>\n  </thead>\n  <tbody>\n    <tr>\n      <th>42</th>\n      <td>42 Coin</td>\n      <td>Scrypt</td>\n      <td>PoW/PoS</td>\n      <td>42</td>\n      <td>42</td>\n    </tr>\n    <tr>\n      <th>365</th>\n      <td>365Coin</td>\n      <td>X11</td>\n      <td>PoW/PoS</td>\n      <td>NaN</td>\n      <td>2300000000</td>\n    </tr>\n    <tr>\n      <th>404</th>\n      <td>404Coin</td>\n      <td>Scrypt</td>\n      <td>PoW/PoS</td>\n      <td>1.25685e+06</td>\n      <td>532000000</td>\n    </tr>\n    <tr>\n      <th>611</th>\n      <td>SixEleven</td>\n      <td>SHA-256</td>\n      <td>PoW</td>\n      <td>NaN</td>\n      <td>611000</td>\n    </tr>\n    <tr>\n      <th>808</th>\n      <td>808</td>\n      <td>SHA-256</td>\n      <td>PoW/PoS</td>\n      <td>0</td>\n      <td>0</td>\n    </tr>\n  </tbody>\n</table>\n</div>"
     },
     "metadata": {},
     "execution_count": 153
    }
   ],
   "source": [
    "# Remove the \"IsTrading\" column\n",
    "crypto_df.drop(columns=['IsTrading'], inplace=True)\n",
    "crypto_df.head()"
   ]
  },
  {
   "cell_type": "code",
   "execution_count": 154,
   "metadata": {},
   "outputs": [
    {
     "output_type": "execute_result",
     "data": {
      "text/plain": "         CoinName Algorithm ProofType TotalCoinsMined TotalCoinSupply\n42        42 Coin    Scrypt   PoW/PoS              42              42\n404       404Coin    Scrypt   PoW/PoS     1.25685e+06       532000000\n808           808   SHA-256   PoW/PoS               0               0\n1337    EliteCoin       X13   PoW/PoS     2.94803e+10    314159265359\nBTCD  BitcoinDark   SHA-256   PoW/PoS         1288862        22000000",
      "text/html": "<div>\n<style scoped>\n    .dataframe tbody tr th:only-of-type {\n        vertical-align: middle;\n    }\n\n    .dataframe tbody tr th {\n        vertical-align: top;\n    }\n\n    .dataframe thead th {\n        text-align: right;\n    }\n</style>\n<table border=\"1\" class=\"dataframe\">\n  <thead>\n    <tr style=\"text-align: right;\">\n      <th></th>\n      <th>CoinName</th>\n      <th>Algorithm</th>\n      <th>ProofType</th>\n      <th>TotalCoinsMined</th>\n      <th>TotalCoinSupply</th>\n    </tr>\n  </thead>\n  <tbody>\n    <tr>\n      <th>42</th>\n      <td>42 Coin</td>\n      <td>Scrypt</td>\n      <td>PoW/PoS</td>\n      <td>42</td>\n      <td>42</td>\n    </tr>\n    <tr>\n      <th>404</th>\n      <td>404Coin</td>\n      <td>Scrypt</td>\n      <td>PoW/PoS</td>\n      <td>1.25685e+06</td>\n      <td>532000000</td>\n    </tr>\n    <tr>\n      <th>808</th>\n      <td>808</td>\n      <td>SHA-256</td>\n      <td>PoW/PoS</td>\n      <td>0</td>\n      <td>0</td>\n    </tr>\n    <tr>\n      <th>1337</th>\n      <td>EliteCoin</td>\n      <td>X13</td>\n      <td>PoW/PoS</td>\n      <td>2.94803e+10</td>\n      <td>314159265359</td>\n    </tr>\n    <tr>\n      <th>BTCD</th>\n      <td>BitcoinDark</td>\n      <td>SHA-256</td>\n      <td>PoW/PoS</td>\n      <td>1288862</td>\n      <td>22000000</td>\n    </tr>\n  </tbody>\n</table>\n</div>"
     },
     "metadata": {},
     "execution_count": 154
    }
   ],
   "source": [
    "# Remove rows with at least 1 null value\n",
    "crypto_df.dropna(inplace=True)\n",
    "crypto_df.head()"
   ]
  },
  {
   "cell_type": "code",
   "execution_count": 155,
   "metadata": {},
   "outputs": [
    {
     "output_type": "execute_result",
     "data": {
      "text/plain": "         CoinName Algorithm ProofType TotalCoinsMined TotalCoinSupply\n42        42 Coin    Scrypt   PoW/PoS              42              42\n404       404Coin    Scrypt   PoW/PoS     1.25685e+06       532000000\n1337    EliteCoin       X13   PoW/PoS     2.94803e+10    314159265359\nBTCD  BitcoinDark   SHA-256   PoW/PoS         1288862        22000000\nXPY       PayCoin   SHA-256       PoS     1.19953e+07        12500000",
      "text/html": "<div>\n<style scoped>\n    .dataframe tbody tr th:only-of-type {\n        vertical-align: middle;\n    }\n\n    .dataframe tbody tr th {\n        vertical-align: top;\n    }\n\n    .dataframe thead th {\n        text-align: right;\n    }\n</style>\n<table border=\"1\" class=\"dataframe\">\n  <thead>\n    <tr style=\"text-align: right;\">\n      <th></th>\n      <th>CoinName</th>\n      <th>Algorithm</th>\n      <th>ProofType</th>\n      <th>TotalCoinsMined</th>\n      <th>TotalCoinSupply</th>\n    </tr>\n  </thead>\n  <tbody>\n    <tr>\n      <th>42</th>\n      <td>42 Coin</td>\n      <td>Scrypt</td>\n      <td>PoW/PoS</td>\n      <td>42</td>\n      <td>42</td>\n    </tr>\n    <tr>\n      <th>404</th>\n      <td>404Coin</td>\n      <td>Scrypt</td>\n      <td>PoW/PoS</td>\n      <td>1.25685e+06</td>\n      <td>532000000</td>\n    </tr>\n    <tr>\n      <th>1337</th>\n      <td>EliteCoin</td>\n      <td>X13</td>\n      <td>PoW/PoS</td>\n      <td>2.94803e+10</td>\n      <td>314159265359</td>\n    </tr>\n    <tr>\n      <th>BTCD</th>\n      <td>BitcoinDark</td>\n      <td>SHA-256</td>\n      <td>PoW/PoS</td>\n      <td>1288862</td>\n      <td>22000000</td>\n    </tr>\n    <tr>\n      <th>XPY</th>\n      <td>PayCoin</td>\n      <td>SHA-256</td>\n      <td>PoS</td>\n      <td>1.19953e+07</td>\n      <td>12500000</td>\n    </tr>\n  </tbody>\n</table>\n</div>"
     },
     "metadata": {},
     "execution_count": 155
    }
   ],
   "source": [
    "# Remove rows with cryptocurrencies having no coins mined\n",
    "crypto_df = crypto_df[crypto_df['TotalCoinsMined'] > 0]\n",
    "crypto_df.head()"
   ]
  },
  {
   "cell_type": "code",
   "execution_count": 156,
   "metadata": {},
   "outputs": [
    {
     "output_type": "execute_result",
     "data": {
      "text/plain": "         CoinName Algorithm ProofType TotalCoinsMined TotalCoinSupply\n42        42 Coin    Scrypt   PoW/PoS              42              42\n404       404Coin    Scrypt   PoW/PoS     1.25685e+06       532000000\n1337    EliteCoin       X13   PoW/PoS     2.94803e+10    314159265359\nBTCD  BitcoinDark   SHA-256   PoW/PoS         1288862        22000000\nXPY       PayCoin   SHA-256       PoS     1.19953e+07        12500000",
      "text/html": "<div>\n<style scoped>\n    .dataframe tbody tr th:only-of-type {\n        vertical-align: middle;\n    }\n\n    .dataframe tbody tr th {\n        vertical-align: top;\n    }\n\n    .dataframe thead th {\n        text-align: right;\n    }\n</style>\n<table border=\"1\" class=\"dataframe\">\n  <thead>\n    <tr style=\"text-align: right;\">\n      <th></th>\n      <th>CoinName</th>\n      <th>Algorithm</th>\n      <th>ProofType</th>\n      <th>TotalCoinsMined</th>\n      <th>TotalCoinSupply</th>\n    </tr>\n  </thead>\n  <tbody>\n    <tr>\n      <th>42</th>\n      <td>42 Coin</td>\n      <td>Scrypt</td>\n      <td>PoW/PoS</td>\n      <td>42</td>\n      <td>42</td>\n    </tr>\n    <tr>\n      <th>404</th>\n      <td>404Coin</td>\n      <td>Scrypt</td>\n      <td>PoW/PoS</td>\n      <td>1.25685e+06</td>\n      <td>532000000</td>\n    </tr>\n    <tr>\n      <th>1337</th>\n      <td>EliteCoin</td>\n      <td>X13</td>\n      <td>PoW/PoS</td>\n      <td>2.94803e+10</td>\n      <td>314159265359</td>\n    </tr>\n    <tr>\n      <th>BTCD</th>\n      <td>BitcoinDark</td>\n      <td>SHA-256</td>\n      <td>PoW/PoS</td>\n      <td>1288862</td>\n      <td>22000000</td>\n    </tr>\n    <tr>\n      <th>XPY</th>\n      <td>PayCoin</td>\n      <td>SHA-256</td>\n      <td>PoS</td>\n      <td>1.19953e+07</td>\n      <td>12500000</td>\n    </tr>\n  </tbody>\n</table>\n</div>"
     },
     "metadata": {},
     "execution_count": 156
    }
   ],
   "source": [
    "# Drop rows where there are 'N/A' text values\n",
    "crypto_df = crypto_df[crypto_df['Algorithm'] != 'N/A']\n",
    "crypto_df = crypto_df[crypto_df['TotalCoinSupply'] != 'N/A']\n",
    "crypto_df.head()"
   ]
  },
  {
   "cell_type": "code",
   "execution_count": 157,
   "metadata": {},
   "outputs": [
    {
     "output_type": "execute_result",
     "data": {
      "text/plain": "         CoinName\n42        42 Coin\n404       404Coin\n1337    EliteCoin\nBTCD  BitcoinDark\nXPY       PayCoin",
      "text/html": "<div>\n<style scoped>\n    .dataframe tbody tr th:only-of-type {\n        vertical-align: middle;\n    }\n\n    .dataframe tbody tr th {\n        vertical-align: top;\n    }\n\n    .dataframe thead th {\n        text-align: right;\n    }\n</style>\n<table border=\"1\" class=\"dataframe\">\n  <thead>\n    <tr style=\"text-align: right;\">\n      <th></th>\n      <th>CoinName</th>\n    </tr>\n  </thead>\n  <tbody>\n    <tr>\n      <th>42</th>\n      <td>42 Coin</td>\n    </tr>\n    <tr>\n      <th>404</th>\n      <td>404Coin</td>\n    </tr>\n    <tr>\n      <th>1337</th>\n      <td>EliteCoin</td>\n    </tr>\n    <tr>\n      <th>BTCD</th>\n      <td>BitcoinDark</td>\n    </tr>\n    <tr>\n      <th>XPY</th>\n      <td>PayCoin</td>\n    </tr>\n  </tbody>\n</table>\n</div>"
     },
     "metadata": {},
     "execution_count": 157
    }
   ],
   "source": [
    "# Store the 'CoinName'column in its own DataFrame prior to dropping it from crypto_df\n",
    "coinName_df = pd.DataFrame({'CoinName': crypto_df['CoinName']}) \n",
    "coinName_df.head()"
   ]
  },
  {
   "cell_type": "code",
   "execution_count": 158,
   "metadata": {},
   "outputs": [
    {
     "output_type": "execute_result",
     "data": {
      "text/plain": "     Algorithm ProofType TotalCoinsMined TotalCoinSupply\n42      Scrypt   PoW/PoS              42              42\n404     Scrypt   PoW/PoS     1.25685e+06       532000000\n1337       X13   PoW/PoS     2.94803e+10    314159265359\nBTCD   SHA-256   PoW/PoS         1288862        22000000\nXPY    SHA-256       PoS     1.19953e+07        12500000",
      "text/html": "<div>\n<style scoped>\n    .dataframe tbody tr th:only-of-type {\n        vertical-align: middle;\n    }\n\n    .dataframe tbody tr th {\n        vertical-align: top;\n    }\n\n    .dataframe thead th {\n        text-align: right;\n    }\n</style>\n<table border=\"1\" class=\"dataframe\">\n  <thead>\n    <tr style=\"text-align: right;\">\n      <th></th>\n      <th>Algorithm</th>\n      <th>ProofType</th>\n      <th>TotalCoinsMined</th>\n      <th>TotalCoinSupply</th>\n    </tr>\n  </thead>\n  <tbody>\n    <tr>\n      <th>42</th>\n      <td>Scrypt</td>\n      <td>PoW/PoS</td>\n      <td>42</td>\n      <td>42</td>\n    </tr>\n    <tr>\n      <th>404</th>\n      <td>Scrypt</td>\n      <td>PoW/PoS</td>\n      <td>1.25685e+06</td>\n      <td>532000000</td>\n    </tr>\n    <tr>\n      <th>1337</th>\n      <td>X13</td>\n      <td>PoW/PoS</td>\n      <td>2.94803e+10</td>\n      <td>314159265359</td>\n    </tr>\n    <tr>\n      <th>BTCD</th>\n      <td>SHA-256</td>\n      <td>PoW/PoS</td>\n      <td>1288862</td>\n      <td>22000000</td>\n    </tr>\n    <tr>\n      <th>XPY</th>\n      <td>SHA-256</td>\n      <td>PoS</td>\n      <td>1.19953e+07</td>\n      <td>12500000</td>\n    </tr>\n  </tbody>\n</table>\n</div>"
     },
     "metadata": {},
     "execution_count": 158
    }
   ],
   "source": [
    "# Drop the 'CoinName' column since it's not going to be used on the clustering algorithm\n",
    "crypto_df.drop(columns=['CoinName'], inplace=True)\n",
    "crypto_df.head()"
   ]
  },
  {
   "cell_type": "code",
   "execution_count": 159,
   "metadata": {},
   "outputs": [
    {
     "output_type": "execute_result",
     "data": {
      "text/plain": "     TotalCoinsMined TotalCoinSupply  Algorithm_1GB AES Pattern Search  \\\n42                42              42                                 0   \n404      1.25685e+06       532000000                                 0   \n1337     2.94803e+10    314159265359                                 0   \nBTCD         1288862        22000000                                 0   \nXPY      1.19953e+07        12500000                                 0   \n\n      Algorithm_536  Algorithm_Argon2d  Algorithm_BLAKE256  \\\n42                0                  0                   0   \n404               0                  0                   0   \n1337              0                  0                   0   \nBTCD              0                  0                   0   \nXPY               0                  0                   0   \n\n      Algorithm_BMW512 / Echo512  Algorithm_Blake  Algorithm_Blake2S  \\\n42                             0                0                  0   \n404                            0                0                  0   \n1337                           0                0                  0   \nBTCD                           0                0                  0   \nXPY                            0                0                  0   \n\n      Algorithm_Blake2b  ...  ProofType_PoW/PoS  ProofType_PoW/PoS   \\\n42                    0  ...                  1                   0   \n404                   0  ...                  1                   0   \n1337                  0  ...                  1                   0   \nBTCD                  0  ...                  1                   0   \nXPY                   0  ...                  0                   0   \n\n      ProofType_PoW/PoW  ProofType_PoW/nPoS  ProofType_Pos  \\\n42                    0                   0              0   \n404                   0                   0              0   \n1337                  0                   0              0   \nBTCD                  0                   0              0   \nXPY                   0                   0              0   \n\n      ProofType_Proof of Authority  ProofType_Proof of Trust  ProofType_TPoS  \\\n42                               0                         0               0   \n404                              0                         0               0   \n1337                             0                         0               0   \nBTCD                             0                         0               0   \nXPY                              0                         0               0   \n\n      ProofType_Zero-Knowledge Proof  ProofType_dPoW/PoW  \n42                                 0                   0  \n404                                0                   0  \n1337                               0                   0  \nBTCD                               0                   0  \nXPY                                0                   0  \n\n[5 rows x 115 columns]",
      "text/html": "<div>\n<style scoped>\n    .dataframe tbody tr th:only-of-type {\n        vertical-align: middle;\n    }\n\n    .dataframe tbody tr th {\n        vertical-align: top;\n    }\n\n    .dataframe thead th {\n        text-align: right;\n    }\n</style>\n<table border=\"1\" class=\"dataframe\">\n  <thead>\n    <tr style=\"text-align: right;\">\n      <th></th>\n      <th>TotalCoinsMined</th>\n      <th>TotalCoinSupply</th>\n      <th>Algorithm_1GB AES Pattern Search</th>\n      <th>Algorithm_536</th>\n      <th>Algorithm_Argon2d</th>\n      <th>Algorithm_BLAKE256</th>\n      <th>Algorithm_BMW512 / Echo512</th>\n      <th>Algorithm_Blake</th>\n      <th>Algorithm_Blake2S</th>\n      <th>Algorithm_Blake2b</th>\n      <th>...</th>\n      <th>ProofType_PoW/PoS</th>\n      <th>ProofType_PoW/PoS</th>\n      <th>ProofType_PoW/PoW</th>\n      <th>ProofType_PoW/nPoS</th>\n      <th>ProofType_Pos</th>\n      <th>ProofType_Proof of Authority</th>\n      <th>ProofType_Proof of Trust</th>\n      <th>ProofType_TPoS</th>\n      <th>ProofType_Zero-Knowledge Proof</th>\n      <th>ProofType_dPoW/PoW</th>\n    </tr>\n  </thead>\n  <tbody>\n    <tr>\n      <th>42</th>\n      <td>42</td>\n      <td>42</td>\n      <td>0</td>\n      <td>0</td>\n      <td>0</td>\n      <td>0</td>\n      <td>0</td>\n      <td>0</td>\n      <td>0</td>\n      <td>0</td>\n      <td>...</td>\n      <td>1</td>\n      <td>0</td>\n      <td>0</td>\n      <td>0</td>\n      <td>0</td>\n      <td>0</td>\n      <td>0</td>\n      <td>0</td>\n      <td>0</td>\n      <td>0</td>\n    </tr>\n    <tr>\n      <th>404</th>\n      <td>1.25685e+06</td>\n      <td>532000000</td>\n      <td>0</td>\n      <td>0</td>\n      <td>0</td>\n      <td>0</td>\n      <td>0</td>\n      <td>0</td>\n      <td>0</td>\n      <td>0</td>\n      <td>...</td>\n      <td>1</td>\n      <td>0</td>\n      <td>0</td>\n      <td>0</td>\n      <td>0</td>\n      <td>0</td>\n      <td>0</td>\n      <td>0</td>\n      <td>0</td>\n      <td>0</td>\n    </tr>\n    <tr>\n      <th>1337</th>\n      <td>2.94803e+10</td>\n      <td>314159265359</td>\n      <td>0</td>\n      <td>0</td>\n      <td>0</td>\n      <td>0</td>\n      <td>0</td>\n      <td>0</td>\n      <td>0</td>\n      <td>0</td>\n      <td>...</td>\n      <td>1</td>\n      <td>0</td>\n      <td>0</td>\n      <td>0</td>\n      <td>0</td>\n      <td>0</td>\n      <td>0</td>\n      <td>0</td>\n      <td>0</td>\n      <td>0</td>\n    </tr>\n    <tr>\n      <th>BTCD</th>\n      <td>1288862</td>\n      <td>22000000</td>\n      <td>0</td>\n      <td>0</td>\n      <td>0</td>\n      <td>0</td>\n      <td>0</td>\n      <td>0</td>\n      <td>0</td>\n      <td>0</td>\n      <td>...</td>\n      <td>1</td>\n      <td>0</td>\n      <td>0</td>\n      <td>0</td>\n      <td>0</td>\n      <td>0</td>\n      <td>0</td>\n      <td>0</td>\n      <td>0</td>\n      <td>0</td>\n    </tr>\n    <tr>\n      <th>XPY</th>\n      <td>1.19953e+07</td>\n      <td>12500000</td>\n      <td>0</td>\n      <td>0</td>\n      <td>0</td>\n      <td>0</td>\n      <td>0</td>\n      <td>0</td>\n      <td>0</td>\n      <td>0</td>\n      <td>...</td>\n      <td>0</td>\n      <td>0</td>\n      <td>0</td>\n      <td>0</td>\n      <td>0</td>\n      <td>0</td>\n      <td>0</td>\n      <td>0</td>\n      <td>0</td>\n      <td>0</td>\n    </tr>\n  </tbody>\n</table>\n<p>5 rows × 115 columns</p>\n</div>"
     },
     "metadata": {},
     "execution_count": 159
    }
   ],
   "source": [
    "# Create dummy variables for text features\n",
    "crypto_df_encoded = pd.get_dummies(crypto_df, columns=['Algorithm','ProofType'])\n",
    "crypto_df_encoded.head()"
   ]
  },
  {
   "cell_type": "code",
   "execution_count": 160,
   "metadata": {
    "tags": []
   },
   "outputs": [
    {
     "output_type": "stream",
     "name": "stdout",
     "text": "[[-0.12343301 -0.16083139]\n [-0.1234047  -0.1527286 ]\n [ 0.54051627  4.62407055]\n [-0.12340398 -0.16049632]\n [-0.12316285 -0.16064101]]\n"
    }
   ],
   "source": [
    "# Standardize data\n",
    "# crypto_scaled = StandardScaler().fit_transform(crypto_df_encoded)\n",
    "crypto_scaled = StandardScaler().fit_transform(crypto_df[['TotalCoinsMined', 'TotalCoinSupply']])\n",
    "print(crypto_scaled[0:5])"
   ]
  },
  {
   "cell_type": "markdown",
   "metadata": {},
   "source": [
    "### Reducing Dimensions Using PCA"
   ]
  },
  {
   "cell_type": "code",
   "execution_count": 183,
   "metadata": {},
   "outputs": [],
   "source": [
    "# Use PCA to reduce dimensions to 3 principal components\n",
    "pca = PCA(n_components=2)"
   ]
  },
  {
   "cell_type": "code",
   "execution_count": 185,
   "metadata": {},
   "outputs": [
    {
     "output_type": "execute_result",
     "data": {
      "text/plain": "   principal component 1  principal component 2\n0              -0.201005              -0.026445\n1              -0.195256              -0.020735\n2               3.651914               2.887509\n3              -0.200748              -0.026228\n4              -0.200680              -0.026501",
      "text/html": "<div>\n<style scoped>\n    .dataframe tbody tr th:only-of-type {\n        vertical-align: middle;\n    }\n\n    .dataframe tbody tr th {\n        vertical-align: top;\n    }\n\n    .dataframe thead th {\n        text-align: right;\n    }\n</style>\n<table border=\"1\" class=\"dataframe\">\n  <thead>\n    <tr style=\"text-align: right;\">\n      <th></th>\n      <th>principal component 1</th>\n      <th>principal component 2</th>\n    </tr>\n  </thead>\n  <tbody>\n    <tr>\n      <th>0</th>\n      <td>-0.201005</td>\n      <td>-0.026445</td>\n    </tr>\n    <tr>\n      <th>1</th>\n      <td>-0.195256</td>\n      <td>-0.020735</td>\n    </tr>\n    <tr>\n      <th>2</th>\n      <td>3.651914</td>\n      <td>2.887509</td>\n    </tr>\n    <tr>\n      <th>3</th>\n      <td>-0.200748</td>\n      <td>-0.026228</td>\n    </tr>\n    <tr>\n      <th>4</th>\n      <td>-0.200680</td>\n      <td>-0.026501</td>\n    </tr>\n  </tbody>\n</table>\n</div>"
     },
     "metadata": {},
     "execution_count": 185
    }
   ],
   "source": [
    "# Create a DataFrame with the principal components data\n",
    "crypto_pca = pca.fit_transform(crypto_scaled)\n",
    "crypto_pca\n",
    "\n",
    "crypto_pca_df = pd.DataFrame(\n",
    "    data=crypto_pca, \n",
    "    columns=[\n",
    "        \"principal component 1\"\n",
    "        , \"principal component 2\"\n",
    "        # , \"principal component 3\"\n",
    "        ]    \n",
    ")\n",
    "crypto_pca_df.head()"
   ]
  },
  {
   "cell_type": "markdown",
   "metadata": {},
   "source": [
    "### Clustering Crytocurrencies Using K-Means\n",
    "\n",
    "#### Find the Best Value for `k` Using the Elbow Curve"
   ]
  },
  {
   "cell_type": "code",
   "execution_count": null,
   "metadata": {},
   "outputs": [],
   "source": [
    "inertia = []\n",
    "k = list(range(1, 11))\n",
    "\n",
    "# Calculate the inertia for the range of k values\n",
    "\n",
    "\n",
    "# Create the Elbow Curve using hvPlot\n"
   ]
  },
  {
   "cell_type": "markdown",
   "metadata": {},
   "source": [
    "Running K-Means with `k=<your best value for k here>`"
   ]
  },
  {
   "cell_type": "code",
   "execution_count": null,
   "metadata": {},
   "outputs": [],
   "source": [
    "# Initialize the K-Means model\n",
    "\n",
    "# Fit the model\n",
    "\n",
    "# Predict clusters\n",
    "\n",
    "# Create a new DataFrame including predicted clusters and cryptocurrencies features\n"
   ]
  },
  {
   "cell_type": "markdown",
   "metadata": {},
   "source": [
    "### Visualizing Results\n",
    "\n",
    "#### 3D-Scatter with Clusters"
   ]
  },
  {
   "cell_type": "code",
   "execution_count": null,
   "metadata": {},
   "outputs": [],
   "source": [
    "# Create a 3D-Scatter with the PCA data and the clusters\n"
   ]
  },
  {
   "cell_type": "markdown",
   "metadata": {},
   "source": [
    "#### Table of Tradable Cryptocurrencies"
   ]
  },
  {
   "cell_type": "code",
   "execution_count": null,
   "metadata": {},
   "outputs": [],
   "source": [
    "# Table with tradable cryptos\n"
   ]
  },
  {
   "cell_type": "code",
   "execution_count": null,
   "metadata": {},
   "outputs": [],
   "source": [
    "# Print the total number of tradable cryptocurrencies\n"
   ]
  },
  {
   "cell_type": "markdown",
   "metadata": {},
   "source": [
    "#### Scatter Plot with Tradable Cryptocurrencies"
   ]
  },
  {
   "cell_type": "code",
   "execution_count": null,
   "metadata": {},
   "outputs": [],
   "source": [
    "# Scale data to create the scatter plot\n"
   ]
  },
  {
   "cell_type": "code",
   "execution_count": null,
   "metadata": {},
   "outputs": [],
   "source": [
    "# Plot the scatter with x=\"TotalCoinsMined\" and y=\"TotalCoinSupply\"\n"
   ]
  }
 ],
 "metadata": {
  "file_extension": ".py",
  "kernelspec": {
   "display_name": "Python 3.7.7 64-bit ('pyvizenv': conda)",
   "language": "python",
   "name": "python37764bitpyvizenvconda0dc645e3ea2144fc877efffc78381ef1"
  },
  "language_info": {
   "codemirror_mode": {
    "name": "ipython",
    "version": 3
   },
   "file_extension": ".py",
   "mimetype": "text/x-python",
   "name": "python",
   "nbconvert_exporter": "python",
   "pygments_lexer": "ipython3",
   "version": "3.7.7-final"
  },
  "mimetype": "text/x-python",
  "name": "python",
  "npconvert_exporter": "python",
  "pygments_lexer": "ipython3",
  "version": 3
 },
 "nbformat": 4,
 "nbformat_minor": 4
}